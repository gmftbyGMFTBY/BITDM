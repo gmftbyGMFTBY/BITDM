{
 "cells": [
  {
   "cell_type": "markdown",
   "metadata": {},
   "source": [
    "* Wine Reviews  \n",
    "    1. 看完Somm(一部关于侍酒大师的纪录片)后，我想知道如何才能像侍酒大师那样，通过盲品来建立一个预测模型来识别葡萄酒。  \n",
    "       这个过程的第一步是收集一些数据来训练一个模型。我计划使用深度学习来预测葡萄酒的品种，使用描述/评论中的单词。  \n",
    "       该模型仍然无法预测葡萄酒，但从理论上讲，它可以根据侍酒师给出的描述来识别葡萄酒。如果有人对如何实现这一点有任何想法，请张贴他们。\n",
    "    2. 数据描述\n",
    "        * `winemag-data-130k-v2.csv` 包含有 10 列和 130k 行关于酒的评价\n",
    "        * `winemag-data_first150k.csv` 包含有 10 列和 150k 行关于酒的评价\n",
    "        * `winemag-data-130k-v2.json` 包含有 6919 歌评价的实体\n",
    "* Oakland Crime Statistics 2011 to 2016  \n",
    "    具体分析 2016 的数据情况"
   ]
  },
  {
   "cell_type": "code",
   "execution_count": 1,
   "metadata": {},
   "outputs": [],
   "source": [
    "import os\n",
    "import sys\n",
    "import math\n",
    "import pandas as pd\n",
    "import numpy as np\n",
    "import csv\n",
    "import json\n",
    "import pickle\n",
    "import matplotlib.pyplot as plt\n",
    "%matplotlib inline"
   ]
  },
  {
   "cell_type": "markdown",
   "metadata": {
    "toc-hr-collapsed": true
   },
   "source": [
    "# Wine 数据探索性分析与数据预处理"
   ]
  },
  {
   "cell_type": "markdown",
   "metadata": {
    "toc-hr-collapsed": false
   },
   "source": [
    "## 2. 数据可视化和摘要"
   ]
  },
  {
   "cell_type": "markdown",
   "metadata": {
    "toc-hr-collapsed": false
   },
   "source": [
    "### 2.1 数据摘要"
   ]
  },
  {
   "cell_type": "code",
   "execution_count": 2,
   "metadata": {},
   "outputs": [],
   "source": [
    "wine1 = pd.read_csv('./data/wine/winemag-data-130k-v2.csv')"
   ]
  },
  {
   "cell_type": "code",
   "execution_count": 3,
   "metadata": {},
   "outputs": [
    {
     "data": {
      "text/html": [
       "<div>\n",
       "<style scoped>\n",
       "    .dataframe tbody tr th:only-of-type {\n",
       "        vertical-align: middle;\n",
       "    }\n",
       "\n",
       "    .dataframe tbody tr th {\n",
       "        vertical-align: top;\n",
       "    }\n",
       "\n",
       "    .dataframe thead th {\n",
       "        text-align: right;\n",
       "    }\n",
       "</style>\n",
       "<table border=\"1\" class=\"dataframe\">\n",
       "  <thead>\n",
       "    <tr style=\"text-align: right;\">\n",
       "      <th></th>\n",
       "      <th>Unnamed: 0</th>\n",
       "      <th>country</th>\n",
       "      <th>description</th>\n",
       "      <th>designation</th>\n",
       "      <th>points</th>\n",
       "      <th>price</th>\n",
       "      <th>province</th>\n",
       "      <th>region_1</th>\n",
       "      <th>region_2</th>\n",
       "      <th>taster_name</th>\n",
       "      <th>taster_twitter_handle</th>\n",
       "      <th>title</th>\n",
       "      <th>variety</th>\n",
       "      <th>winery</th>\n",
       "    </tr>\n",
       "  </thead>\n",
       "  <tbody>\n",
       "    <tr>\n",
       "      <th>0</th>\n",
       "      <td>0</td>\n",
       "      <td>Italy</td>\n",
       "      <td>Aromas include tropical fruit, broom, brimston...</td>\n",
       "      <td>Vulkà Bianco</td>\n",
       "      <td>87</td>\n",
       "      <td>NaN</td>\n",
       "      <td>Sicily &amp; Sardinia</td>\n",
       "      <td>Etna</td>\n",
       "      <td>NaN</td>\n",
       "      <td>Kerin O’Keefe</td>\n",
       "      <td>@kerinokeefe</td>\n",
       "      <td>Nicosia 2013 Vulkà Bianco  (Etna)</td>\n",
       "      <td>White Blend</td>\n",
       "      <td>Nicosia</td>\n",
       "    </tr>\n",
       "    <tr>\n",
       "      <th>1</th>\n",
       "      <td>1</td>\n",
       "      <td>Portugal</td>\n",
       "      <td>This is ripe and fruity, a wine that is smooth...</td>\n",
       "      <td>Avidagos</td>\n",
       "      <td>87</td>\n",
       "      <td>15.0</td>\n",
       "      <td>Douro</td>\n",
       "      <td>NaN</td>\n",
       "      <td>NaN</td>\n",
       "      <td>Roger Voss</td>\n",
       "      <td>@vossroger</td>\n",
       "      <td>Quinta dos Avidagos 2011 Avidagos Red (Douro)</td>\n",
       "      <td>Portuguese Red</td>\n",
       "      <td>Quinta dos Avidagos</td>\n",
       "    </tr>\n",
       "    <tr>\n",
       "      <th>2</th>\n",
       "      <td>2</td>\n",
       "      <td>US</td>\n",
       "      <td>Tart and snappy, the flavors of lime flesh and...</td>\n",
       "      <td>NaN</td>\n",
       "      <td>87</td>\n",
       "      <td>14.0</td>\n",
       "      <td>Oregon</td>\n",
       "      <td>Willamette Valley</td>\n",
       "      <td>Willamette Valley</td>\n",
       "      <td>Paul Gregutt</td>\n",
       "      <td>@paulgwine</td>\n",
       "      <td>Rainstorm 2013 Pinot Gris (Willamette Valley)</td>\n",
       "      <td>Pinot Gris</td>\n",
       "      <td>Rainstorm</td>\n",
       "    </tr>\n",
       "    <tr>\n",
       "      <th>3</th>\n",
       "      <td>3</td>\n",
       "      <td>US</td>\n",
       "      <td>Pineapple rind, lemon pith and orange blossom ...</td>\n",
       "      <td>Reserve Late Harvest</td>\n",
       "      <td>87</td>\n",
       "      <td>13.0</td>\n",
       "      <td>Michigan</td>\n",
       "      <td>Lake Michigan Shore</td>\n",
       "      <td>NaN</td>\n",
       "      <td>Alexander Peartree</td>\n",
       "      <td>NaN</td>\n",
       "      <td>St. Julian 2013 Reserve Late Harvest Riesling ...</td>\n",
       "      <td>Riesling</td>\n",
       "      <td>St. Julian</td>\n",
       "    </tr>\n",
       "    <tr>\n",
       "      <th>4</th>\n",
       "      <td>4</td>\n",
       "      <td>US</td>\n",
       "      <td>Much like the regular bottling from 2012, this...</td>\n",
       "      <td>Vintner's Reserve Wild Child Block</td>\n",
       "      <td>87</td>\n",
       "      <td>65.0</td>\n",
       "      <td>Oregon</td>\n",
       "      <td>Willamette Valley</td>\n",
       "      <td>Willamette Valley</td>\n",
       "      <td>Paul Gregutt</td>\n",
       "      <td>@paulgwine</td>\n",
       "      <td>Sweet Cheeks 2012 Vintner's Reserve Wild Child...</td>\n",
       "      <td>Pinot Noir</td>\n",
       "      <td>Sweet Cheeks</td>\n",
       "    </tr>\n",
       "  </tbody>\n",
       "</table>\n",
       "</div>"
      ],
      "text/plain": [
       "   Unnamed: 0   country                                        description  \\\n",
       "0           0     Italy  Aromas include tropical fruit, broom, brimston...   \n",
       "1           1  Portugal  This is ripe and fruity, a wine that is smooth...   \n",
       "2           2        US  Tart and snappy, the flavors of lime flesh and...   \n",
       "3           3        US  Pineapple rind, lemon pith and orange blossom ...   \n",
       "4           4        US  Much like the regular bottling from 2012, this...   \n",
       "\n",
       "                          designation  points  price           province  \\\n",
       "0                        Vulkà Bianco      87    NaN  Sicily & Sardinia   \n",
       "1                            Avidagos      87   15.0              Douro   \n",
       "2                                 NaN      87   14.0             Oregon   \n",
       "3                Reserve Late Harvest      87   13.0           Michigan   \n",
       "4  Vintner's Reserve Wild Child Block      87   65.0             Oregon   \n",
       "\n",
       "              region_1           region_2         taster_name  \\\n",
       "0                 Etna                NaN       Kerin O’Keefe   \n",
       "1                  NaN                NaN          Roger Voss   \n",
       "2    Willamette Valley  Willamette Valley        Paul Gregutt   \n",
       "3  Lake Michigan Shore                NaN  Alexander Peartree   \n",
       "4    Willamette Valley  Willamette Valley        Paul Gregutt   \n",
       "\n",
       "  taster_twitter_handle                                              title  \\\n",
       "0          @kerinokeefe                  Nicosia 2013 Vulkà Bianco  (Etna)   \n",
       "1            @vossroger      Quinta dos Avidagos 2011 Avidagos Red (Douro)   \n",
       "2           @paulgwine       Rainstorm 2013 Pinot Gris (Willamette Valley)   \n",
       "3                   NaN  St. Julian 2013 Reserve Late Harvest Riesling ...   \n",
       "4           @paulgwine   Sweet Cheeks 2012 Vintner's Reserve Wild Child...   \n",
       "\n",
       "          variety               winery  \n",
       "0     White Blend              Nicosia  \n",
       "1  Portuguese Red  Quinta dos Avidagos  \n",
       "2      Pinot Gris            Rainstorm  \n",
       "3        Riesling           St. Julian  \n",
       "4      Pinot Noir         Sweet Cheeks  "
      ]
     },
     "execution_count": 3,
     "metadata": {},
     "output_type": "execute_result"
    }
   ],
   "source": [
    "wine1.head()"
   ]
  },
  {
   "cell_type": "code",
   "execution_count": 4,
   "metadata": {},
   "outputs": [
    {
     "name": "stdout",
     "output_type": "stream",
     "text": [
      "========== Named: country ==========\n",
      "US                        54504\n",
      "France                    22093\n",
      "Italy                     19540\n",
      "Spain                      6645\n",
      "Portugal                   5691\n",
      "Chile                      4472\n",
      "Argentina                  3800\n",
      "Austria                    3345\n",
      "Australia                  2329\n",
      "Germany                    2165\n",
      "New Zealand                1419\n",
      "South Africa               1401\n",
      "Israel                      505\n",
      "Greece                      466\n",
      "Canada                      257\n",
      "Hungary                     146\n",
      "Bulgaria                    141\n",
      "Romania                     120\n",
      "Uruguay                     109\n",
      "Turkey                       90\n",
      "Slovenia                     87\n",
      "Georgia                      86\n",
      "England                      74\n",
      "Croatia                      73\n",
      "Mexico                       70\n",
      "Moldova                      59\n",
      "Brazil                       52\n",
      "Lebanon                      35\n",
      "Morocco                      28\n",
      "Peru                         16\n",
      "Ukraine                      14\n",
      "Serbia                       12\n",
      "Macedonia                    12\n",
      "Czech Republic               12\n",
      "Cyprus                       11\n",
      "India                         9\n",
      "Switzerland                   7\n",
      "Luxembourg                    6\n",
      "Bosnia and Herzegovina        2\n",
      "Armenia                       2\n",
      "China                         1\n",
      "Egypt                         1\n",
      "Slovakia                      1\n",
      "Name: country, dtype: int64\n",
      "========== Named: province ==========\n",
      "California                  36247\n",
      "Washington                   8639\n",
      "Bordeaux                     5941\n",
      "Tuscany                      5897\n",
      "Oregon                       5373\n",
      "Burgundy                     3980\n",
      "Northern Spain               3851\n",
      "Piedmont                     3729\n",
      "Mendoza Province             3264\n",
      "Veneto                       2716\n",
      "New York                     2688\n",
      "Alsace                       2440\n",
      "Northeastern Italy           2138\n",
      "Loire Valley                 1856\n",
      "Sicily & Sardinia            1797\n",
      "Champagne                    1613\n",
      "Southwest France             1503\n",
      "Southern Italy               1349\n",
      "South Australia              1349\n",
      "Provence                     1346\n",
      "Douro                        1281\n",
      "Central Italy                1233\n",
      "Catalonia                    1164\n",
      "Rhône Valley                 1081\n",
      "Beaujolais                   1044\n",
      "Mosel                        1039\n",
      "Alentejano                    937\n",
      "Colchagua Valley              830\n",
      "Marlborough                   798\n",
      "Virginia                      777\n",
      "                            ...  \n",
      "Pocerina                        1\n",
      "Pitsilia Mountains              1\n",
      "Paardeberg                      1\n",
      "Canada Other                    1\n",
      "Egypt                           1\n",
      "Muscat of Kefallonian           1\n",
      "Neuchâtel                       1\n",
      "Lutzville Valley                1\n",
      "Ticino                          1\n",
      "Serra do Sudeste                1\n",
      "Kentucky                        1\n",
      "Croatia                         1\n",
      "Markopoulo                      1\n",
      "Muscat of Patras                1\n",
      "Beotia                          1\n",
      "Dolenjska                       1\n",
      "Vlootenburg                     1\n",
      "Corinthia                       1\n",
      "Krk                             1\n",
      "Ceres Plateau                   1\n",
      "Lesbos                          1\n",
      "Elazığ-Diyarbakir               1\n",
      "Rhode Island                    1\n",
      "Urla-Thrace                     1\n",
      "Hrvatsko Primorje               1\n",
      "Casablanca-Curicó Valley        1\n",
      "Table wine                      1\n",
      "Messinia                        1\n",
      "Muzla                           1\n",
      "Coelemu                         1\n",
      "Name: province, Length: 425, dtype: int64\n",
      "========== Named: region_1 ==========\n",
      "Napa Valley                          4480\n",
      "Columbia Valley (WA)                 4124\n",
      "Russian River Valley                 3091\n",
      "California                           2629\n",
      "Paso Robles                          2350\n",
      "Mendoza                              2301\n",
      "Willamette Valley                    2301\n",
      "Alsace                               2163\n",
      "Champagne                            1613\n",
      "Barolo                               1599\n",
      "Finger Lakes                         1565\n",
      "Sonoma Coast                         1474\n",
      "Brunello di Montalcino               1470\n",
      "Rioja                                1469\n",
      "Sonoma County                        1246\n",
      "Toscana                              1197\n",
      "Walla Walla Valley (WA)              1066\n",
      "Chianti Classico                     1062\n",
      "Santa Barbara County                 1000\n",
      "Carneros                              999\n",
      "Yakima Valley                         997\n",
      "Sta. Rita Hills                       975\n",
      "Dry Creek Valley                      939\n",
      "Sicilia                               925\n",
      "Côtes de Provence                     859\n",
      "Santa Ynez Valley                     812\n",
      "Santa Lucia Highlands                 806\n",
      "Lodi                                  803\n",
      "Barbaresco                            794\n",
      "Alexander Valley                      784\n",
      "                                     ... \n",
      "Napa-Amador                             1\n",
      "Napa Valley-Paso Robles                 1\n",
      "Squinzano                               1\n",
      "Sonoma-Napa-Mendocino                   1\n",
      "Côtes de Forez                          1\n",
      "Isle St. George                         1\n",
      "Currency Creek                          1\n",
      "Saint Guilhem le Désert                 1\n",
      "Burgundy                                1\n",
      "Hawaii                                  1\n",
      "Del Veneto                              1\n",
      "Valpolicella Valpantena Superiore       1\n",
      "Clairette de Die                        1\n",
      "Moulis                                  1\n",
      "Currency Creek-McLaren Vale             1\n",
      "Muscat de Saint-Jean de Minervois       1\n",
      "Mazoyeres-Chambertin                    1\n",
      "Henty                                   1\n",
      "Dolcetto di Monferrato                  1\n",
      "Corton Perrières                        1\n",
      "Frascati                                1\n",
      "Coteaux du Lyonnais                     1\n",
      "Paestum                                 1\n",
      "Côtes du Frontonnais                    1\n",
      "Colline Teramane                        1\n",
      "Vin Santo di Carmignano                 1\n",
      "Tehama County                           1\n",
      "Napa County-Lake County                 1\n",
      "McLaren Vale-Padthaway                  1\n",
      "Sonoma-Napa-Lake                        1\n",
      "Name: region_1, Length: 1229, dtype: int64\n",
      "========== Named: region_2 ==========\n",
      "Central Coast        11065\n",
      "Sonoma                9028\n",
      "Columbia Valley       8103\n",
      "Napa                  6814\n",
      "Willamette Valley     3423\n",
      "California Other      2663\n",
      "Finger Lakes          1777\n",
      "Sierra Foothills      1462\n",
      "Napa-Sonoma           1169\n",
      "Central Valley        1062\n",
      "Southern Oregon        917\n",
      "Oregon Other           727\n",
      "Long Island            680\n",
      "North Coast            584\n",
      "Washington Other       534\n",
      "South Coast            272\n",
      "New York Other         231\n",
      "Name: region_2, dtype: int64\n",
      "========== Named: variety ==========\n",
      "Pinot Noir                    13272\n",
      "Chardonnay                    11753\n",
      "Cabernet Sauvignon             9472\n",
      "Red Blend                      8946\n",
      "Bordeaux-style Red Blend       6915\n",
      "Riesling                       5189\n",
      "Sauvignon Blanc                4967\n",
      "Syrah                          4142\n",
      "Rosé                           3564\n",
      "Merlot                         3102\n",
      "Nebbiolo                       2804\n",
      "Zinfandel                      2714\n",
      "Sangiovese                     2707\n",
      "Malbec                         2652\n",
      "Portuguese Red                 2466\n",
      "White Blend                    2360\n",
      "Sparkling Blend                2153\n",
      "Tempranillo                    1810\n",
      "Rhône-style Red Blend          1471\n",
      "Pinot Gris                     1455\n",
      "Champagne Blend                1396\n",
      "Cabernet Franc                 1353\n",
      "Grüner Veltliner               1345\n",
      "Portuguese White               1159\n",
      "Bordeaux-style White Blend     1066\n",
      "Pinot Grigio                   1052\n",
      "Gamay                          1025\n",
      "Gewürztraminer                 1012\n",
      "Viognier                        996\n",
      "Shiraz                          836\n",
      "                              ...  \n",
      "Vermentino Nero                   1\n",
      "Otskhanuri Sapere                 1\n",
      "Frankovka                         1\n",
      "Bobal-Cabernet Sauvignon          1\n",
      "Pinot Gris-Gewürztraminer         1\n",
      "Catalanesca                       1\n",
      "Parraleta                         1\n",
      "Ekigaïna                          1\n",
      "Syrah-Malbec                      1\n",
      "Žilavka                           1\n",
      "Aidani                            1\n",
      "Roussanne-Grenache Blanc          1\n",
      "Chardonnay-Pinot Gris             1\n",
      "Folle Blanche                     1\n",
      "Macabeo-Moscatel                  1\n",
      "Ojaleshi                          1\n",
      "Tempranillo-Malbec                1\n",
      "Sauvignon-Sémillon                1\n",
      "Pinot Blanc-Viognier              1\n",
      "Loureiro-Arinto                   1\n",
      "Torontel                          1\n",
      "Biancale                          1\n",
      "Vranac                            1\n",
      "Karasakiz                         1\n",
      "Ramisco                           1\n",
      "Merlot-Argaman                    1\n",
      "Ryzlink Rýnský                    1\n",
      "Colorino                          1\n",
      "Sauvignonasse                     1\n",
      "Teroldego Rotaliano               1\n",
      "Name: variety, Length: 707, dtype: int64\n",
      "========== Named: winery ==========\n",
      "Wines & Winemakers            222\n",
      "Testarossa                    218\n",
      "DFJ Vinhos                    215\n",
      "Williams Selyem               211\n",
      "Louis Latour                  199\n",
      "Georges Duboeuf               196\n",
      "Chateau Ste. Michelle         194\n",
      "Concha y Toro                 164\n",
      "Columbia Crest                159\n",
      "Kendall-Jackson               130\n",
      "Siduri                        126\n",
      "Gary Farrell                  125\n",
      "Lynmar                        118\n",
      "Albert Bichot                 117\n",
      "Montes                        117\n",
      "Casa Santos Lima              113\n",
      "Trapiche                      113\n",
      "Jean-Luc and Paul Aegerter    113\n",
      "Undurraga                     113\n",
      "Santa Ema                     112\n",
      "Robert Mondavi                112\n",
      "Chanson Père et Fils          109\n",
      "Fess Parker                   108\n",
      "V. Sattui                     107\n",
      "Iron Horse                    106\n",
      "Foxen                         105\n",
      "Louis Jadot                   104\n",
      "Maryhill                      102\n",
      "Chehalem                      102\n",
      "Feudi di San Gregorio         102\n",
      "                             ... \n",
      "Stratford                       1\n",
      "Ispiri                          1\n",
      "Kluge Estate                    1\n",
      "Cap Cette                       1\n",
      "L'Avion                         1\n",
      "Tortarossa                      1\n",
      "Château Fonpiqueyre             1\n",
      "Sundae wines                    1\n",
      "Royal de Jarras                 1\n",
      "Medusa                          1\n",
      "Encendido                       1\n",
      "Château Haut Pougnan            1\n",
      "Montecrocetta                   1\n",
      "Zion Fine Wines                 1\n",
      "Linked                          1\n",
      "Prizm                           1\n",
      "Scopetani                       1\n",
      "Sonoma Vineyards                1\n",
      "Bishop Creek Cellars            1\n",
      "The Furst...                    1\n",
      "Fattoria Garbole                1\n",
      "Bodega Belgrano                 1\n",
      "Ribas de Cabrera                1\n",
      "D. Ventura                      1\n",
      "Nelson Family Vineyards         1\n",
      "Finca Mayor                     1\n",
      "Ground Boots                    1\n",
      "Viña Pargua                     1\n",
      "Maison Marcel                   1\n",
      "Montesco                        1\n",
      "Name: winery, Length: 16757, dtype: int64\n"
     ]
    }
   ],
   "source": [
    "# 标称类型数据摘要\n",
    "named_data = ['country', 'province', 'region_1', 'region_2', 'variety', 'winery']\n",
    "for named in named_data:\n",
    "    print(f\"========== Named: {named} ==========\")\n",
    "    print(getattr(wine1, named).value_counts())"
   ]
  },
  {
   "cell_type": "code",
   "execution_count": 6,
   "metadata": {},
   "outputs": [
    {
     "name": "stdout",
     "output_type": "stream",
     "text": [
      "========== Num: points ==========\n",
      "Max: 100\n",
      "Min: 80\n",
      "Mean: 88.44713820775404\n",
      "Median: 88.0\n",
      "Quantile: 86.0 88.0 91.0\n",
      "Nan count: 0\n",
      "========== Num: price ==========\n",
      "Max: 3300.0\n",
      "Min: 4.0\n",
      "Mean: 35.363389129985535\n",
      "Median: 25.0\n",
      "Quantile: 17.0 25.0 42.0\n",
      "Nan count: 8996\n"
     ]
    }
   ],
   "source": [
    "# 数据类型数据摘要: 最大、最小、均值、中位数、四分位数及缺失值的个数\n",
    "num_data = ['points', 'price']\n",
    "for num_name in num_data:\n",
    "    print(f\"========== Num: {num_name} ==========\")\n",
    "    print('Max:', getattr(wine1, num_name).max())\n",
    "    print('Min:', getattr(wine1, num_name).min())\n",
    "    print('Mean:', getattr(wine1, num_name).mean())\n",
    "    print('Median:', getattr(wine1, num_name).median())\n",
    "    print('Quantile:', \n",
    "          getattr(wine1, num_name).quantile(q=0.25), \n",
    "          getattr(wine1, num_name).quantile(q=0.5), \n",
    "          getattr(wine1, num_name).quantile(q=0.75))\n",
    "    print('Nan count:', wine1.shape[0] - getattr(wine1, num_name).count())"
   ]
  },
  {
   "cell_type": "markdown",
   "metadata": {},
   "source": [
    "### 2.2 数值可视化\n",
    "经过可视化发现，其中 `points` 也就是用户的打分分布情况基本符合正态分布"
   ]
  },
  {
   "cell_type": "code",
   "execution_count": 7,
   "metadata": {},
   "outputs": [
    {
     "data": {
      "text/plain": [
       "<matplotlib.axes._subplots.AxesSubplot at 0x7f27a3de17b8>"
      ]
     },
     "execution_count": 7,
     "metadata": {},
     "output_type": "execute_result"
    },
    {
     "data": {
      "image/png": "[encoded data removed]",
      "text/plain": [
       "<Figure size 432x288 with 1 Axes>"
      ]
     },
     "metadata": {
      "needs_background": "light"
     },
     "output_type": "display_data"
    }
   ],
   "source": [
    "wine1['points'].hist()"
   ]
  },
  {
   "cell_type": "code",
   "execution_count": 8,
   "metadata": {},
   "outputs": [
    {
     "data": {
      "text/plain": [
       "<matplotlib.axes._subplots.AxesSubplot at 0x7f27a3d2c3c8>"
      ]
     },
     "execution_count": 8,
     "metadata": {},
     "output_type": "execute_result"
    },
    {
     "data": {
      "image/png": "[encoded data removed]",
      "text/plain": [
       "<Figure size 432x288 with 1 Axes>"
      ]
     },
     "metadata": {
      "needs_background": "light"
     },
     "output_type": "display_data"
    }
   ],
   "source": [
    "wine1['price'].hist()"
   ]
  },
  {
   "cell_type": "code",
   "execution_count": 9,
   "metadata": {},
   "outputs": [
    {
     "data": {
      "text/plain": [
       "<matplotlib.axes._subplots.AxesSubplot at 0x7f27a3c4b9e8>"
      ]
     },
     "execution_count": 9,
     "metadata": {},
     "output_type": "execute_result"
    },
    {
     "data": {
      "image/png": "[encoded data removed]",
      "text/plain": [
       "<Figure size 432x288 with 1 Axes>"
      ]
     },
     "metadata": {
      "needs_background": "light"
     },
     "output_type": "display_data"
    }
   ],
   "source": [
    "wine1.boxplot(column=['points'])"
   ]
  },
  {
   "cell_type": "code",
   "execution_count": 68,
   "metadata": {},
   "outputs": [
    {
     "data": {
      "text/plain": [
       "<matplotlib.axes._subplots.AxesSubplot at 0x7fab57daf8d0>"
      ]
     },
     "execution_count": 68,
     "metadata": {},
     "output_type": "execute_result"
    },
    {
     "data": {
      "image/png": "[encoded data removed]",
      "text/plain": [
       "<Figure size 432x288 with 1 Axes>"
      ]
     },
     "metadata": {
      "needs_background": "light"
     },
     "output_type": "display_data"
    }
   ],
   "source": [
    "wine1.boxplot(column=['price'])"
   ]
  },
  {
   "cell_type": "markdown",
   "metadata": {
    "toc-hr-collapsed": true
   },
   "source": [
    "## 3. 数据缺失处理"
   ]
  },
  {
   "cell_type": "markdown",
   "metadata": {},
   "source": [
    "### 3.1 缺失分析"
   ]
  },
  {
   "cell_type": "code",
   "execution_count": 76,
   "metadata": {},
   "outputs": [
    {
     "name": "stdout",
     "output_type": "stream",
     "text": [
      "country 63\n",
      "designation 37465\n",
      "price 8996\n",
      "province 63\n",
      "region_1 21247\n",
      "region_2 79460\n",
      "taster_name 26244\n",
      "taster_twitter_handle 31213\n",
      "variety 1\n"
     ]
    }
   ],
   "source": [
    "for name in wine1.columns:\n",
    "    if wine1[name].count() != wine1.shape[0]:\n",
    "        print(name, wine1.shape[0] - wine1[name].count())"
   ]
  },
  {
   "cell_type": "markdown",
   "metadata": {},
   "source": [
    "根据分析，上述数据存在缺失值\n",
    "1. country: 缺失 63 个数据，如下图所示，数据缺失，无法判断 wine 所属的国家，这一项的缺失也可能会导致其他有关地区的数据项缺失\n",
    "2. designation: 缺失 37465 个数据，缺失 wine 的名称，可能属于作者爬去的数据存在又缺失信息\n",
    "3. province: 缺失 8996 个数据，缺少 wine 的产地省份信息\n",
    "4. region_1: 缺少 21247 个数据，缺少 wine 的产区信息\n",
    "5. region_2: 缺少 79460 个数据，在作者的数据集介绍中，作者明确说明了这一项是 `region_1` 数据的补充，所有可能存在又大量的数据缺失\n",
    "6. taster_name: 缺少 26244 个数据，可能是匿名评论的原因\n",
    "7. taster_twitter_handle: 缺少 31213 个数据，同上\n",
    "8. variety：缺少一项数据，这一项是代表酿造葡萄酒的葡萄种类"
   ]
  },
  {
   "cell_type": "code",
   "execution_count": 88,
   "metadata": {},
   "outputs": [
    {
     "data": {
      "text/html": [
       "<div>\n",
       "<style scoped>\n",
       "    .dataframe tbody tr th:only-of-type {\n",
       "        vertical-align: middle;\n",
       "    }\n",
       "\n",
       "    .dataframe tbody tr th {\n",
       "        vertical-align: top;\n",
       "    }\n",
       "\n",
       "    .dataframe thead th {\n",
       "        text-align: right;\n",
       "    }\n",
       "</style>\n",
       "<table border=\"1\" class=\"dataframe\">\n",
       "  <thead>\n",
       "    <tr style=\"text-align: right;\">\n",
       "      <th></th>\n",
       "      <th>Unnamed: 0</th>\n",
       "      <th>country</th>\n",
       "      <th>description</th>\n",
       "      <th>designation</th>\n",
       "      <th>points</th>\n",
       "      <th>price</th>\n",
       "      <th>province</th>\n",
       "      <th>region_1</th>\n",
       "      <th>region_2</th>\n",
       "      <th>taster_name</th>\n",
       "      <th>taster_twitter_handle</th>\n",
       "      <th>title</th>\n",
       "      <th>variety</th>\n",
       "      <th>winery</th>\n",
       "    </tr>\n",
       "  </thead>\n",
       "  <tbody>\n",
       "    <tr>\n",
       "      <th>86909</th>\n",
       "      <td>86909</td>\n",
       "      <td>Chile</td>\n",
       "      <td>A chalky, dusty mouthfeel nicely balances this...</td>\n",
       "      <td>NaN</td>\n",
       "      <td>88</td>\n",
       "      <td>17.0</td>\n",
       "      <td>Maipo Valley</td>\n",
       "      <td>NaN</td>\n",
       "      <td>NaN</td>\n",
       "      <td>NaN</td>\n",
       "      <td>NaN</td>\n",
       "      <td>Carmen 1999  (Maipo Valley)</td>\n",
       "      <td>NaN</td>\n",
       "      <td>Carmen</td>\n",
       "    </tr>\n",
       "  </tbody>\n",
       "</table>\n",
       "</div>"
      ],
      "text/plain": [
       "       Unnamed: 0 country                                        description  \\\n",
       "86909       86909   Chile  A chalky, dusty mouthfeel nicely balances this...   \n",
       "\n",
       "      designation  points  price      province region_1 region_2 taster_name  \\\n",
       "86909         NaN      88   17.0  Maipo Valley      NaN      NaN         NaN   \n",
       "\n",
       "      taster_twitter_handle                        title variety  winery  \n",
       "86909                   NaN  Carmen 1999  (Maipo Valley)     NaN  Carmen  "
      ]
     },
     "execution_count": 88,
     "metadata": {},
     "output_type": "execute_result"
    }
   ],
   "source": [
    "wine1[wine1['variety'].isnull().values == True]"
   ]
  },
  {
   "cell_type": "markdown",
   "metadata": {},
   "source": [
    "### 3.2 缺失处理\n",
    "* 将缺失部分剔除  \n",
    "    通过将缺失部分删除，可以发现数值类型数据 `points`, `price` 的分布出现了偏差，导致了 `points` 的峰值从 87.5 偏移到 90.0\n",
    "* 用最高频率值来填补缺失值  \n",
    "    通过使用最高频率进行填补，可以发现对数据的分布情况没有具体的影响，这也部分的符合预期，因为使用频率最高的部分填补缺失值可以尽可能保证填补的正确率\n",
    "* 通过属性的相关关系来填补缺失值  \n",
    "    下面的可视化的例子使用的是利用 `province` 对 `region_1` 进行相关的填补，因为相同的 `region_1` 一定处于相同的 `province` 中\n",
    "* 通过数据对象之间的相似性来填补缺失值  \n",
    "    最后的例子中使用的是酒庄的相似度对价格的缺失值填补，每一个酒庄的平均价格都是不同的，有好有坏"
   ]
  },
  {
   "cell_type": "markdown",
   "metadata": {},
   "source": [
    "#### 3.2.1 缺失剔除"
   ]
  },
  {
   "cell_type": "code",
   "execution_count": 106,
   "metadata": {},
   "outputs": [
    {
     "data": {
      "text/plain": [
       "<matplotlib.axes._subplots.AxesSubplot at 0x7fab57c74c18>"
      ]
     },
     "execution_count": 106,
     "metadata": {},
     "output_type": "execute_result"
    },
    {
     "data": {
      "image/png": "[encoded data removed]",
      "text/plain": [
       "<Figure size 432x288 with 1 Axes>"
      ]
     },
     "metadata": {
      "needs_background": "light"
     },
     "output_type": "display_data"
    }
   ],
   "source": [
    "wine1.boxplot(column=['points', 'price'])"
   ]
  },
  {
   "cell_type": "code",
   "execution_count": 107,
   "metadata": {},
   "outputs": [
    {
     "data": {
      "text/plain": [
       "<matplotlib.axes._subplots.AxesSubplot at 0x7fab49b61c50>"
      ]
     },
     "execution_count": 107,
     "metadata": {},
     "output_type": "execute_result"
    },
    {
     "data": {
      "image/png": "[encoded data removed]",
      "text/plain": [
       "<Figure size 432x288 with 1 Axes>"
      ]
     },
     "metadata": {
      "needs_background": "light"
     },
     "output_type": "display_data"
    }
   ],
   "source": [
    "wine1['points'].hist()"
   ]
  },
  {
   "cell_type": "code",
   "execution_count": 108,
   "metadata": {},
   "outputs": [
    {
     "data": {
      "text/plain": [
       "<matplotlib.axes._subplots.AxesSubplot at 0x7fab57bfe3c8>"
      ]
     },
     "execution_count": 108,
     "metadata": {},
     "output_type": "execute_result"
    },
    {
     "data": {
      "image/png": "[encoded data removed]",
      "text/plain": [
       "<Figure size 432x288 with 1 Axes>"
      ]
     },
     "metadata": {
      "needs_background": "light"
     },
     "output_type": "display_data"
    }
   ],
   "source": [
    "wine1['price'].hist()"
   ]
  },
  {
   "cell_type": "code",
   "execution_count": 104,
   "metadata": {},
   "outputs": [],
   "source": [
    "delete_wine1 = wine1.dropna()"
   ]
  },
  {
   "cell_type": "code",
   "execution_count": 105,
   "metadata": {},
   "outputs": [
    {
     "data": {
      "text/plain": [
       "<matplotlib.axes._subplots.AxesSubplot at 0x7fab49fc79e8>"
      ]
     },
     "execution_count": 105,
     "metadata": {},
     "output_type": "execute_result"
    },
    {
     "data": {
      "image/png": "[encoded data removed]",
      "text/plain": [
       "<Figure size 432x288 with 1 Axes>"
      ]
     },
     "metadata": {
      "needs_background": "light"
     },
     "output_type": "display_data"
    }
   ],
   "source": [
    "delete_wine1.boxplot(column=['points', 'price'])"
   ]
  },
  {
   "cell_type": "code",
   "execution_count": 109,
   "metadata": {},
   "outputs": [
    {
     "data": {
      "text/plain": [
       "<matplotlib.axes._subplots.AxesSubplot at 0x7fab57046630>"
      ]
     },
     "execution_count": 109,
     "metadata": {},
     "output_type": "execute_result"
    },
    {
     "data": {
      "image/png": "[encoded data removed]",
      "text/plain": [
       "<Figure size 432x288 with 1 Axes>"
      ]
     },
     "metadata": {
      "needs_background": "light"
     },
     "output_type": "display_data"
    }
   ],
   "source": [
    "delete_wine1['points'].hist()"
   ]
  },
  {
   "cell_type": "code",
   "execution_count": 110,
   "metadata": {},
   "outputs": [
    {
     "data": {
      "text/plain": [
       "<matplotlib.axes._subplots.AxesSubplot at 0x7fab56e6d588>"
      ]
     },
     "execution_count": 110,
     "metadata": {},
     "output_type": "execute_result"
    },
    {
     "data": {
      "image/png": "[encoded data removed]",
      "text/plain": [
       "<Figure size 432x288 with 1 Axes>"
      ]
     },
     "metadata": {
      "needs_background": "light"
     },
     "output_type": "display_data"
    }
   ],
   "source": [
    "delete_wine1['price'].hist()"
   ]
  },
  {
   "cell_type": "markdown",
   "metadata": {},
   "source": [
    "#### 3.2.2 用最高频率值来填补缺失值"
   ]
  },
  {
   "cell_type": "code",
   "execution_count": 131,
   "metadata": {},
   "outputs": [],
   "source": [
    "fill_max = wine1.fillna({'points': wine1['points'].mode().item(), 'price': wine1['price'].mode().item()})"
   ]
  },
  {
   "cell_type": "code",
   "execution_count": 132,
   "metadata": {},
   "outputs": [
    {
     "data": {
      "text/plain": [
       "<matplotlib.axes._subplots.AxesSubplot at 0x7fab417c4b38>"
      ]
     },
     "execution_count": 132,
     "metadata": {},
     "output_type": "execute_result"
    },
    {
     "data": {
      "image/png": "[encoded data removed]",
      "text/plain": [
       "<Figure size 432x288 with 1 Axes>"
      ]
     },
     "metadata": {
      "needs_background": "light"
     },
     "output_type": "display_data"
    }
   ],
   "source": [
    "fill_max['points'].hist()"
   ]
  },
  {
   "cell_type": "code",
   "execution_count": 134,
   "metadata": {},
   "outputs": [
    {
     "data": {
      "text/plain": [
       "<matplotlib.axes._subplots.AxesSubplot at 0x7fab416e22e8>"
      ]
     },
     "execution_count": 134,
     "metadata": {},
     "output_type": "execute_result"
    },
    {
     "data": {
      "image/png": "[encoded data removed]",
      "text/plain": [
       "<Figure size 432x288 with 1 Axes>"
      ]
     },
     "metadata": {
      "needs_background": "light"
     },
     "output_type": "display_data"
    }
   ],
   "source": [
    "fill_max.boxplot(column=['points', 'price'])"
   ]
  },
  {
   "cell_type": "markdown",
   "metadata": {},
   "source": [
    "#### 3.2.3 通过属性的相关关系来填补缺失值"
   ]
  },
  {
   "cell_type": "code",
   "execution_count": 3,
   "metadata": {},
   "outputs": [],
   "source": [
    "relation_fill = pd.DataFrame(wine1, columns=['province', 'region_1'])"
   ]
  },
  {
   "cell_type": "code",
   "execution_count": 4,
   "metadata": {},
   "outputs": [
    {
     "data": {
      "text/html": [
       "<div>\n",
       "<style scoped>\n",
       "    .dataframe tbody tr th:only-of-type {\n",
       "        vertical-align: middle;\n",
       "    }\n",
       "\n",
       "    .dataframe tbody tr th {\n",
       "        vertical-align: top;\n",
       "    }\n",
       "\n",
       "    .dataframe thead th {\n",
       "        text-align: right;\n",
       "    }\n",
       "</style>\n",
       "<table border=\"1\" class=\"dataframe\">\n",
       "  <thead>\n",
       "    <tr style=\"text-align: right;\">\n",
       "      <th></th>\n",
       "      <th>province</th>\n",
       "      <th>region_1</th>\n",
       "    </tr>\n",
       "  </thead>\n",
       "  <tbody>\n",
       "    <tr>\n",
       "      <th>0</th>\n",
       "      <td>Sicily &amp; Sardinia</td>\n",
       "      <td>Etna</td>\n",
       "    </tr>\n",
       "    <tr>\n",
       "      <th>1</th>\n",
       "      <td>Douro</td>\n",
       "      <td>NaN</td>\n",
       "    </tr>\n",
       "    <tr>\n",
       "      <th>2</th>\n",
       "      <td>Oregon</td>\n",
       "      <td>Willamette Valley</td>\n",
       "    </tr>\n",
       "    <tr>\n",
       "      <th>3</th>\n",
       "      <td>Michigan</td>\n",
       "      <td>Lake Michigan Shore</td>\n",
       "    </tr>\n",
       "    <tr>\n",
       "      <th>4</th>\n",
       "      <td>Oregon</td>\n",
       "      <td>Willamette Valley</td>\n",
       "    </tr>\n",
       "    <tr>\n",
       "      <th>5</th>\n",
       "      <td>Northern Spain</td>\n",
       "      <td>Navarra</td>\n",
       "    </tr>\n",
       "    <tr>\n",
       "      <th>6</th>\n",
       "      <td>Sicily &amp; Sardinia</td>\n",
       "      <td>Vittoria</td>\n",
       "    </tr>\n",
       "    <tr>\n",
       "      <th>7</th>\n",
       "      <td>Alsace</td>\n",
       "      <td>Alsace</td>\n",
       "    </tr>\n",
       "    <tr>\n",
       "      <th>8</th>\n",
       "      <td>Rheinhessen</td>\n",
       "      <td>NaN</td>\n",
       "    </tr>\n",
       "    <tr>\n",
       "      <th>9</th>\n",
       "      <td>Alsace</td>\n",
       "      <td>Alsace</td>\n",
       "    </tr>\n",
       "  </tbody>\n",
       "</table>\n",
       "</div>"
      ],
      "text/plain": [
       "            province             region_1\n",
       "0  Sicily & Sardinia                 Etna\n",
       "1              Douro                  NaN\n",
       "2             Oregon    Willamette Valley\n",
       "3           Michigan  Lake Michigan Shore\n",
       "4             Oregon    Willamette Valley\n",
       "5     Northern Spain              Navarra\n",
       "6  Sicily & Sardinia             Vittoria\n",
       "7             Alsace               Alsace\n",
       "8        Rheinhessen                  NaN\n",
       "9             Alsace               Alsace"
      ]
     },
     "execution_count": 4,
     "metadata": {},
     "output_type": "execute_result"
    }
   ],
   "source": [
    "relation_fill.head(10)"
   ]
  },
  {
   "cell_type": "code",
   "execution_count": 5,
   "metadata": {},
   "outputs": [
    {
     "data": {
      "text/plain": [
       "<matplotlib.axes._subplots.AxesSubplot at 0x7f6909582d30>"
      ]
     },
     "execution_count": 5,
     "metadata": {},
     "output_type": "execute_result"
    },
    {
     "data": {
      "image/png": "[encoded data removed]",
      "text/plain": [
       "<Figure size 432x288 with 1 Axes>"
      ]
     },
     "metadata": {
      "needs_background": "light"
     },
     "output_type": "display_data"
    }
   ],
   "source": [
    "relation_fill['region_1'].value_counts().hist()"
   ]
  },
  {
   "cell_type": "code",
   "execution_count": 6,
   "metadata": {},
   "outputs": [],
   "source": [
    "# province fill region_1\n",
    "province2region_1 = {}"
   ]
  },
  {
   "cell_type": "code",
   "execution_count": 7,
   "metadata": {},
   "outputs": [],
   "source": [
    "for row in relation_fill.iterrows():\n",
    "    province2region_1[row[1]['province']] = row[1]['region_1']"
   ]
  },
  {
   "cell_type": "code",
   "execution_count": 8,
   "metadata": {},
   "outputs": [],
   "source": [
    "for row in relation_fill.iterrows():\n",
    "    region = province2region_1[row[1]['province']]\n",
    "    row[1]['region_1'] = region"
   ]
  },
  {
   "cell_type": "code",
   "execution_count": 10,
   "metadata": {},
   "outputs": [
    {
     "data": {
      "text/plain": [
       "<matplotlib.axes._subplots.AxesSubplot at 0x7f6909534390>"
      ]
     },
     "execution_count": 10,
     "metadata": {},
     "output_type": "execute_result"
    },
    {
     "data": {
      "image/png": "[encoded data removed]",
      "text/plain": [
       "<Figure size 432x288 with 1 Axes>"
      ]
     },
     "metadata": {
      "needs_background": "light"
     },
     "output_type": "display_data"
    }
   ],
   "source": [
    "relation_fill['region_1'].value_counts().hist()"
   ]
  },
  {
   "cell_type": "markdown",
   "metadata": {},
   "source": [
    "#### 3.2.4 通过数据对象之间的相似性来填补缺失值"
   ]
  },
  {
   "cell_type": "code",
   "execution_count": 3,
   "metadata": {},
   "outputs": [
    {
     "data": {
      "text/html": [
       "<div>\n",
       "<style scoped>\n",
       "    .dataframe tbody tr th:only-of-type {\n",
       "        vertical-align: middle;\n",
       "    }\n",
       "\n",
       "    .dataframe tbody tr th {\n",
       "        vertical-align: top;\n",
       "    }\n",
       "\n",
       "    .dataframe thead th {\n",
       "        text-align: right;\n",
       "    }\n",
       "</style>\n",
       "<table border=\"1\" class=\"dataframe\">\n",
       "  <thead>\n",
       "    <tr style=\"text-align: right;\">\n",
       "      <th></th>\n",
       "      <th>Unnamed: 0</th>\n",
       "      <th>country</th>\n",
       "      <th>description</th>\n",
       "      <th>designation</th>\n",
       "      <th>points</th>\n",
       "      <th>price</th>\n",
       "      <th>province</th>\n",
       "      <th>region_1</th>\n",
       "      <th>region_2</th>\n",
       "      <th>taster_name</th>\n",
       "      <th>taster_twitter_handle</th>\n",
       "      <th>title</th>\n",
       "      <th>variety</th>\n",
       "      <th>winery</th>\n",
       "    </tr>\n",
       "  </thead>\n",
       "  <tbody>\n",
       "    <tr>\n",
       "      <th>0</th>\n",
       "      <td>0</td>\n",
       "      <td>Italy</td>\n",
       "      <td>Aromas include tropical fruit, broom, brimston...</td>\n",
       "      <td>Vulkà Bianco</td>\n",
       "      <td>87</td>\n",
       "      <td>NaN</td>\n",
       "      <td>Sicily &amp; Sardinia</td>\n",
       "      <td>Etna</td>\n",
       "      <td>NaN</td>\n",
       "      <td>Kerin O’Keefe</td>\n",
       "      <td>@kerinokeefe</td>\n",
       "      <td>Nicosia 2013 Vulkà Bianco  (Etna)</td>\n",
       "      <td>White Blend</td>\n",
       "      <td>Nicosia</td>\n",
       "    </tr>\n",
       "    <tr>\n",
       "      <th>1</th>\n",
       "      <td>1</td>\n",
       "      <td>Portugal</td>\n",
       "      <td>This is ripe and fruity, a wine that is smooth...</td>\n",
       "      <td>Avidagos</td>\n",
       "      <td>87</td>\n",
       "      <td>15.0</td>\n",
       "      <td>Douro</td>\n",
       "      <td>NaN</td>\n",
       "      <td>NaN</td>\n",
       "      <td>Roger Voss</td>\n",
       "      <td>@vossroger</td>\n",
       "      <td>Quinta dos Avidagos 2011 Avidagos Red (Douro)</td>\n",
       "      <td>Portuguese Red</td>\n",
       "      <td>Quinta dos Avidagos</td>\n",
       "    </tr>\n",
       "    <tr>\n",
       "      <th>2</th>\n",
       "      <td>2</td>\n",
       "      <td>US</td>\n",
       "      <td>Tart and snappy, the flavors of lime flesh and...</td>\n",
       "      <td>NaN</td>\n",
       "      <td>87</td>\n",
       "      <td>14.0</td>\n",
       "      <td>Oregon</td>\n",
       "      <td>Willamette Valley</td>\n",
       "      <td>Willamette Valley</td>\n",
       "      <td>Paul Gregutt</td>\n",
       "      <td>@paulgwine</td>\n",
       "      <td>Rainstorm 2013 Pinot Gris (Willamette Valley)</td>\n",
       "      <td>Pinot Gris</td>\n",
       "      <td>Rainstorm</td>\n",
       "    </tr>\n",
       "    <tr>\n",
       "      <th>3</th>\n",
       "      <td>3</td>\n",
       "      <td>US</td>\n",
       "      <td>Pineapple rind, lemon pith and orange blossom ...</td>\n",
       "      <td>Reserve Late Harvest</td>\n",
       "      <td>87</td>\n",
       "      <td>13.0</td>\n",
       "      <td>Michigan</td>\n",
       "      <td>Lake Michigan Shore</td>\n",
       "      <td>NaN</td>\n",
       "      <td>Alexander Peartree</td>\n",
       "      <td>NaN</td>\n",
       "      <td>St. Julian 2013 Reserve Late Harvest Riesling ...</td>\n",
       "      <td>Riesling</td>\n",
       "      <td>St. Julian</td>\n",
       "    </tr>\n",
       "    <tr>\n",
       "      <th>4</th>\n",
       "      <td>4</td>\n",
       "      <td>US</td>\n",
       "      <td>Much like the regular bottling from 2012, this...</td>\n",
       "      <td>Vintner's Reserve Wild Child Block</td>\n",
       "      <td>87</td>\n",
       "      <td>65.0</td>\n",
       "      <td>Oregon</td>\n",
       "      <td>Willamette Valley</td>\n",
       "      <td>Willamette Valley</td>\n",
       "      <td>Paul Gregutt</td>\n",
       "      <td>@paulgwine</td>\n",
       "      <td>Sweet Cheeks 2012 Vintner's Reserve Wild Child...</td>\n",
       "      <td>Pinot Noir</td>\n",
       "      <td>Sweet Cheeks</td>\n",
       "    </tr>\n",
       "  </tbody>\n",
       "</table>\n",
       "</div>"
      ],
      "text/plain": [
       "   Unnamed: 0   country                                        description  \\\n",
       "0           0     Italy  Aromas include tropical fruit, broom, brimston...   \n",
       "1           1  Portugal  This is ripe and fruity, a wine that is smooth...   \n",
       "2           2        US  Tart and snappy, the flavors of lime flesh and...   \n",
       "3           3        US  Pineapple rind, lemon pith and orange blossom ...   \n",
       "4           4        US  Much like the regular bottling from 2012, this...   \n",
       "\n",
       "                          designation  points  price           province  \\\n",
       "0                        Vulkà Bianco      87    NaN  Sicily & Sardinia   \n",
       "1                            Avidagos      87   15.0              Douro   \n",
       "2                                 NaN      87   14.0             Oregon   \n",
       "3                Reserve Late Harvest      87   13.0           Michigan   \n",
       "4  Vintner's Reserve Wild Child Block      87   65.0             Oregon   \n",
       "\n",
       "              region_1           region_2         taster_name  \\\n",
       "0                 Etna                NaN       Kerin O’Keefe   \n",
       "1                  NaN                NaN          Roger Voss   \n",
       "2    Willamette Valley  Willamette Valley        Paul Gregutt   \n",
       "3  Lake Michigan Shore                NaN  Alexander Peartree   \n",
       "4    Willamette Valley  Willamette Valley        Paul Gregutt   \n",
       "\n",
       "  taster_twitter_handle                                              title  \\\n",
       "0          @kerinokeefe                  Nicosia 2013 Vulkà Bianco  (Etna)   \n",
       "1            @vossroger      Quinta dos Avidagos 2011 Avidagos Red (Douro)   \n",
       "2           @paulgwine       Rainstorm 2013 Pinot Gris (Willamette Valley)   \n",
       "3                   NaN  St. Julian 2013 Reserve Late Harvest Riesling ...   \n",
       "4           @paulgwine   Sweet Cheeks 2012 Vintner's Reserve Wild Child...   \n",
       "\n",
       "          variety               winery  \n",
       "0     White Blend              Nicosia  \n",
       "1  Portuguese Red  Quinta dos Avidagos  \n",
       "2      Pinot Gris            Rainstorm  \n",
       "3        Riesling           St. Julian  \n",
       "4      Pinot Noir         Sweet Cheeks  "
      ]
     },
     "execution_count": 3,
     "metadata": {},
     "output_type": "execute_result"
    }
   ],
   "source": [
    "# points to fill price\n",
    "sim_fill = wine1.copy()\n",
    "sim_fill.head(5)"
   ]
  },
  {
   "cell_type": "code",
   "execution_count": 20,
   "metadata": {},
   "outputs": [
    {
     "data": {
      "text/plain": [
       "<matplotlib.axes._subplots.AxesSubplot at 0x7f26f1e996d8>"
      ]
     },
     "execution_count": 20,
     "metadata": {},
     "output_type": "execute_result"
    },
    {
     "data": {
      "image/png": "[encoded data removed]",
      "text/plain": [
       "<Figure size 432x288 with 1 Axes>"
      ]
     },
     "metadata": {
      "needs_background": "light"
     },
     "output_type": "display_data"
    }
   ],
   "source": [
    "wine1.price.hist(bins=50)"
   ]
  },
  {
   "cell_type": "code",
   "execution_count": 10,
   "metadata": {},
   "outputs": [],
   "source": [
    "point2price = {}\n",
    "for row in sim_fill.iterrows():\n",
    "    if point2price.get(row[1]['points'], None):\n",
    "        if not pd.isnull(row[1]['price']):\n",
    "            point2price[row[1]['points']][0] += row[1]['price']\n",
    "            point2price[row[1]['points']][1] += 1\n",
    "    else:\n",
    "        if not pd.isnull(row[1]['price']):\n",
    "            point2price[row[1]['points']] = [row[1]['price'], 1]"
   ]
  },
  {
   "cell_type": "code",
   "execution_count": 11,
   "metadata": {},
   "outputs": [],
   "source": [
    "for k in point2price.keys():\n",
    "    point2price[k][0] = round(point2price[k][0] / point2price[k][1], 4)"
   ]
  },
  {
   "cell_type": "code",
   "execution_count": 12,
   "metadata": {},
   "outputs": [
    {
     "data": {
      "text/plain": [
       "8996"
      ]
     },
     "execution_count": 12,
     "metadata": {},
     "output_type": "execute_result"
    }
   ],
   "source": [
    "px = 0\n",
    "for row in sim_fill.iterrows():\n",
    "    if pd.isnull(row[1]['price']):\n",
    "        row[1]['price'] = point2price[row[1]['points']][0]\n",
    "        px += 1\n",
    "px"
   ]
  },
  {
   "cell_type": "code",
   "execution_count": 19,
   "metadata": {},
   "outputs": [
    {
     "data": {
      "text/plain": [
       "<matplotlib.axes._subplots.AxesSubplot at 0x7f26f20234e0>"
      ]
     },
     "execution_count": 19,
     "metadata": {},
     "output_type": "execute_result"
    },
    {
     "data": {
      "image/png": "[encoded data removed]",
      "text/plain": [
       "<Figure size 432x288 with 1 Axes>"
      ]
     },
     "metadata": {
      "needs_background": "light"
     },
     "output_type": "display_data"
    }
   ],
   "source": [
    "sim_fill.price.hist(bins=50)"
   ]
  },
  {
   "cell_type": "markdown",
   "metadata": {
    "toc-hr-collapsed": true
   },
   "source": [
    "# Oakland Crime 数据探索性分析与数据预处理"
   ]
  },
  {
   "cell_type": "markdown",
   "metadata": {
    "toc-hr-collapsed": true
   },
   "source": [
    "## 2. 数据可视化和摘要"
   ]
  },
  {
   "cell_type": "markdown",
   "metadata": {},
   "source": [
    "### 2.1 数据摘要"
   ]
  },
  {
   "cell_type": "code",
   "execution_count": 23,
   "metadata": {},
   "outputs": [],
   "source": [
    "crime = pd.read_csv('./data/oakland-crime/records-for-2016.csv')"
   ]
  },
  {
   "cell_type": "code",
   "execution_count": 24,
   "metadata": {},
   "outputs": [
    {
     "data": {
      "text/html": [
       "<div>\n",
       "<style scoped>\n",
       "    .dataframe tbody tr th:only-of-type {\n",
       "        vertical-align: middle;\n",
       "    }\n",
       "\n",
       "    .dataframe tbody tr th {\n",
       "        vertical-align: top;\n",
       "    }\n",
       "\n",
       "    .dataframe thead th {\n",
       "        text-align: right;\n",
       "    }\n",
       "</style>\n",
       "<table border=\"1\" class=\"dataframe\">\n",
       "  <thead>\n",
       "    <tr style=\"text-align: right;\">\n",
       "      <th></th>\n",
       "      <th>Agency</th>\n",
       "      <th>Create Time</th>\n",
       "      <th>Location</th>\n",
       "      <th>Area Id</th>\n",
       "      <th>Beat</th>\n",
       "      <th>Priority</th>\n",
       "      <th>Incident Type Id</th>\n",
       "      <th>Incident Type Description</th>\n",
       "      <th>Event Number</th>\n",
       "      <th>Closed Time</th>\n",
       "    </tr>\n",
       "  </thead>\n",
       "  <tbody>\n",
       "    <tr>\n",
       "      <th>0</th>\n",
       "      <td>OP</td>\n",
       "      <td>2016-01-01T00:00:57.000</td>\n",
       "      <td>ST&amp;MARKET ST</td>\n",
       "      <td>P1</td>\n",
       "      <td>05X</td>\n",
       "      <td>2.0</td>\n",
       "      <td>415GS</td>\n",
       "      <td>415 GUNSHOTS</td>\n",
       "      <td>LOP160101000003</td>\n",
       "      <td>2016-01-01T00:32:30.000</td>\n",
       "    </tr>\n",
       "    <tr>\n",
       "      <th>1</th>\n",
       "      <td>OP</td>\n",
       "      <td>2016-01-01T00:01:25.000</td>\n",
       "      <td>AV&amp;HAMILTON ST</td>\n",
       "      <td>P3</td>\n",
       "      <td>26Y</td>\n",
       "      <td>2.0</td>\n",
       "      <td>415GS</td>\n",
       "      <td>415 GUNSHOTS</td>\n",
       "      <td>LOP160101000005</td>\n",
       "      <td>2016-01-01T00:48:23.000</td>\n",
       "    </tr>\n",
       "    <tr>\n",
       "      <th>2</th>\n",
       "      <td>OP</td>\n",
       "      <td>2016-01-01T00:01:43.000</td>\n",
       "      <td>ST&amp;CHESTNUT ST</td>\n",
       "      <td>P1</td>\n",
       "      <td>02X</td>\n",
       "      <td>2.0</td>\n",
       "      <td>415GS</td>\n",
       "      <td>415 GUNSHOTS</td>\n",
       "      <td>LOP160101000008</td>\n",
       "      <td>2016-01-01T00:21:24.000</td>\n",
       "    </tr>\n",
       "    <tr>\n",
       "      <th>3</th>\n",
       "      <td>OP</td>\n",
       "      <td>2016-01-01T00:01:48.000</td>\n",
       "      <td>WALLACE ST</td>\n",
       "      <td>P2</td>\n",
       "      <td>18Y</td>\n",
       "      <td>2.0</td>\n",
       "      <td>415GS</td>\n",
       "      <td>415 GUNSHOTS</td>\n",
       "      <td>LOP160101000007</td>\n",
       "      <td>2016-01-01T01:15:03.000</td>\n",
       "    </tr>\n",
       "    <tr>\n",
       "      <th>4</th>\n",
       "      <td>OP</td>\n",
       "      <td>2016-01-01T00:02:05.000</td>\n",
       "      <td>90TH AV</td>\n",
       "      <td>P3</td>\n",
       "      <td>34X</td>\n",
       "      <td>2.0</td>\n",
       "      <td>415GS</td>\n",
       "      <td>415 GUNSHOTS</td>\n",
       "      <td>LOP160101000009</td>\n",
       "      <td>2016-01-01T00:54:52.000</td>\n",
       "    </tr>\n",
       "  </tbody>\n",
       "</table>\n",
       "</div>"
      ],
      "text/plain": [
       "  Agency              Create Time             Location Area Id Beat  Priority  \\\n",
       "0     OP  2016-01-01T00:00:57.000     ST&MARKET ST          P1  05X       2.0   \n",
       "1     OP  2016-01-01T00:01:25.000   AV&HAMILTON ST          P3  26Y       2.0   \n",
       "2     OP  2016-01-01T00:01:43.000   ST&CHESTNUT ST          P1  02X       2.0   \n",
       "3     OP  2016-01-01T00:01:48.000       WALLACE ST          P2  18Y       2.0   \n",
       "4     OP  2016-01-01T00:02:05.000          90TH AV          P3  34X       2.0   \n",
       "\n",
       "  Incident Type Id Incident Type Description     Event Number  \\\n",
       "0            415GS              415 GUNSHOTS  LOP160101000003   \n",
       "1            415GS              415 GUNSHOTS  LOP160101000005   \n",
       "2            415GS              415 GUNSHOTS  LOP160101000008   \n",
       "3            415GS              415 GUNSHOTS  LOP160101000007   \n",
       "4            415GS              415 GUNSHOTS  LOP160101000009   \n",
       "\n",
       "               Closed Time  \n",
       "0  2016-01-01T00:32:30.000  \n",
       "1  2016-01-01T00:48:23.000  \n",
       "2  2016-01-01T00:21:24.000  \n",
       "3  2016-01-01T01:15:03.000  \n",
       "4  2016-01-01T00:54:52.000  "
      ]
     },
     "execution_count": 24,
     "metadata": {},
     "output_type": "execute_result"
    }
   ],
   "source": [
    "crime.head()"
   ]
  },
  {
   "cell_type": "code",
   "execution_count": 26,
   "metadata": {},
   "outputs": [
    {
     "name": "stdout",
     "output_type": "stream",
     "text": [
      "========== Named: Location ==========\n",
      " INTERNATIONAL BLVD              2156\n",
      " AV&INTERNATIONAL BLVD           1829\n",
      " MACARTHUR BLVD                  1813\n",
      " BROADWAY                        1472\n",
      " 7TH ST                          1223\n",
      " FOOTHILL BLVD                   1052\n",
      " TELEGRAPH AV                     875\n",
      " SAN PABLO AV                     765\n",
      " AV&MACARTHUR BLVD                737\n",
      " FRUITVALE AV                     709\n",
      " BANCROFT AV                      707\n",
      " ST&BROADWAY                      691\n",
      " HIGH ST                          678\n",
      " ST&TELEGRAPH AV                  638\n",
      " 73RD AV                          595\n",
      " HEGENBERGER RD                   591\n",
      " AV&FOOTHILL BLVD                 554\n",
      " LAKESHORE AV                     509\n",
      " WEBSTER ST                       465\n",
      " E 12TH ST                        455\n",
      " AV&BANCROFT AV                   440\n",
      " HARRISON ST                      436\n",
      " ST&MARKET ST                     427\n",
      " GRAND AV                         416\n",
      " MARKET ST                        414\n",
      " 35TH AV                          408\n",
      " 14TH ST                          401\n",
      " ST&MARTIN LUTHER KING JR WY      401\n",
      " 34TH ST                          371\n",
      " ST&SAN PABLO AV                  363\n",
      "                                 ... \n",
      "65TH 89TH AV                        1\n",
      "FOOTHILL MINNA AV                   1\n",
      "CANON ST&OAK ST                     1\n",
      "12TH FOREST HILL AV                 1\n",
      "9TH 58TH ST                         1\n",
      "PROSPECT HIGH ST                    1\n",
      "FISH 11TH ST                        1\n",
      "85TH EMBARCADERO&GRAND AV           1\n",
      "12TH AV&OLIVE ST                    1\n",
      "BEAUMONT 7TH ST                     1\n",
      "LINCOLN LYON AV                     1\n",
      " WOOLSEY ST                         1\n",
      "98TH 28TH AV                        1\n",
      "3RD CROSBY AV                       1\n",
      "KINGSLAND STONERIDGE CT             1\n",
      "GILBERT 85TH AV                     1\n",
      "20TH 34TH AV                        1\n",
      "BALDWIN BROADWAY                    1\n",
      "FLEMING 14TH ST                     1\n",
      "11TH 24TH ST                        1\n",
      "41ST 88TH AV                        1\n",
      "79TH FAIRMOUNT AV                   1\n",
      "26TH AV&WICKSON AV                  1\n",
      "FOOTHILL AILEEN ST                  1\n",
      "BROADWAY&SB 36TH ST                 1\n",
      "E STERLING DR                       1\n",
      "88TH 62ND ST                        1\n",
      "12TH 30TH AV                        1\n",
      "ACACIA SAN PABLO AV                 1\n",
      "APGAR 82ND AV                       1\n",
      "Name: Location, Length: 24046, dtype: int64\n",
      "========== Named: Area Id ==========\n",
      "P3     47425\n",
      "P1     41419\n",
      "P2     19610\n",
      "POU     2173\n",
      "PCW      194\n",
      "TEC        4\n",
      "WAG        1\n",
      "JLS        1\n",
      "Name: Area Id, dtype: int64\n",
      "========== Named: Beat ==========\n",
      "04X     4515\n",
      "08X     3931\n",
      "26Y     3511\n",
      "30Y     3473\n",
      "19X     3455\n",
      "30X     3416\n",
      "03X     3195\n",
      "23X     3076\n",
      "34X     2857\n",
      "07X     2831\n",
      "20X     2702\n",
      "29X     2646\n",
      "06X     2580\n",
      "03Y     2562\n",
      "27Y     2517\n",
      "25X     2467\n",
      "31Y     2460\n",
      "27X     2333\n",
      "35X     2328\n",
      "32X     2316\n",
      "33X     2276\n",
      "09X     2158\n",
      "21Y     2100\n",
      "32Y     2093\n",
      "12Y     1987\n",
      "14X     1832\n",
      "26X     1766\n",
      "02X     1746\n",
      "24X     1704\n",
      "02Y     1659\n",
      "10Y     1573\n",
      "10X     1557\n",
      "22X     1541\n",
      "17Y     1482\n",
      "21X     1479\n",
      "24Y     1454\n",
      "31X     1439\n",
      "22Y     1420\n",
      "13Z     1397\n",
      "15X     1393\n",
      "05X     1342\n",
      "01X     1304\n",
      "12X     1299\n",
      "31Z     1268\n",
      "28X     1261\n",
      "11X     1208\n",
      "35Y     1159\n",
      "18Y     1102\n",
      "14Y     1027\n",
      "17X      969\n",
      "13Y      952\n",
      "16Y      907\n",
      "25Y      739\n",
      "18X      721\n",
      "16X      708\n",
      "13X      630\n",
      "05Y      408\n",
      "PDT2      16\n",
      "Name: Beat, dtype: int64\n",
      "========== Named: Incident Type Id ==========\n",
      "933R      10094\n",
      "415        7883\n",
      "SECCK      7251\n",
      "10851      5308\n",
      "911H       5089\n",
      "5150       4859\n",
      "415C       3701\n",
      "242        3483\n",
      "912        2583\n",
      "949        2504\n",
      "HAZ        2424\n",
      "243E       2310\n",
      "WELCK      2276\n",
      "415GS      2025\n",
      "901A       1730\n",
      "602L       1690\n",
      "211        1592\n",
      "415TH      1458\n",
      "943        1288\n",
      "415N       1287\n",
      "245        1286\n",
      "975        1159\n",
      "415CU      1084\n",
      "20002      1071\n",
      "933MA      1061\n",
      "601R       1024\n",
      "901        1020\n",
      "EVAL       1011\n",
      "CODE7       975\n",
      "597         810\n",
      "          ...  \n",
      "370           3\n",
      "11351         3\n",
      "529           3\n",
      "21235V        3\n",
      "243           3\n",
      "182           3\n",
      "203           3\n",
      "148_5A        3\n",
      "10801         2\n",
      "626_6         2\n",
      "SUSPS         2\n",
      "484G          2\n",
      "591           2\n",
      "10852         2\n",
      "WIT           2\n",
      "503           2\n",
      "140           2\n",
      "YELALT        1\n",
      "487E          1\n",
      "407           1\n",
      "300WI         1\n",
      "A487          1\n",
      "OTC           1\n",
      "970A          1\n",
      "3211H         1\n",
      "ABC           1\n",
      "955B          1\n",
      "EBMUD         1\n",
      "243A          1\n",
      "DROWN         1\n",
      "Name: Incident Type Id, Length: 242, dtype: int64\n"
     ]
    }
   ],
   "source": [
    "# 标称类型数据摘要\n",
    "named_data = ['Location', 'Area Id', 'Beat', 'Incident Type Id']\n",
    "for named in named_data:\n",
    "    print(f\"========== Named: {named} ==========\")\n",
    "    print(getattr(crime, named).value_counts())"
   ]
  },
  {
   "cell_type": "code",
   "execution_count": 31,
   "metadata": {},
   "outputs": [
    {
     "name": "stdout",
     "output_type": "stream",
     "text": [
      "========== Num: Priority ==========\n",
      "Max: 2.0\n",
      "Min: 1.0\n",
      "Mean: 1.7784384671605296\n",
      "Mad: 0.34494404001058954\n",
      "Quantile: 2.0 2.0 2.0\n",
      "Nan count: 1\n"
     ]
    }
   ],
   "source": [
    "# 数据类型数据摘要: 最大、最小、均值、中位数、四分位数及缺失值的个数\n",
    "num_data = ['Priority']\n",
    "for num_name in num_data:\n",
    "    print(f\"========== Num: {num_name} ==========\")\n",
    "    print('Max:', getattr(crime, num_name).max())\n",
    "    print('Min:', getattr(crime, num_name).min())\n",
    "    print('Mean:', getattr(crime, num_name).mean())\n",
    "    print('Mad:', getattr(crime, num_name).mad())\n",
    "    print('Quantile:', \n",
    "          getattr(crime, num_name).quantile(q=0.25), \n",
    "          getattr(crime, num_name).quantile(q=0.5), \n",
    "          getattr(crime, num_name).quantile(q=0.75))\n",
    "    print('Nan count:', crime.shape[0] - getattr(crime, num_name).count())"
   ]
  },
  {
   "cell_type": "markdown",
   "metadata": {},
   "source": [
    "### 2.2 数值可视化\n",
    "经过可视化发现，其中 `Priority` 也就是用户的打分分布是一种二值分布，这也是唯一的数值数据"
   ]
  },
  {
   "cell_type": "code",
   "execution_count": 33,
   "metadata": {},
   "outputs": [
    {
     "data": {
      "text/plain": [
       "<matplotlib.axes._subplots.AxesSubplot at 0x7f26eefa6828>"
      ]
     },
     "execution_count": 33,
     "metadata": {},
     "output_type": "execute_result"
    },
    {
     "data": {
      "image/png": "[encoded data removed]",
      "text/plain": [
       "<Figure size 432x288 with 1 Axes>"
      ]
     },
     "metadata": {
      "needs_background": "light"
     },
     "output_type": "display_data"
    }
   ],
   "source": [
    "crime.Priority.hist()"
   ]
  },
  {
   "cell_type": "code",
   "execution_count": 36,
   "metadata": {},
   "outputs": [
    {
     "data": {
      "text/plain": [
       "<matplotlib.axes._subplots.AxesSubplot at 0x7f26ee2dc630>"
      ]
     },
     "execution_count": 36,
     "metadata": {},
     "output_type": "execute_result"
    },
    {
     "data": {
      "image/png": "[encoded data removed]",
      "text/plain": [
       "<Figure size 432x288 with 1 Axes>"
      ]
     },
     "metadata": {
      "needs_background": "light"
     },
     "output_type": "display_data"
    }
   ],
   "source": [
    "crime.boxplot(column=['Priority'])"
   ]
  },
  {
   "cell_type": "markdown",
   "metadata": {
    "toc-hr-collapsed": true
   },
   "source": [
    "## 3 数据缺失处理"
   ]
  },
  {
   "cell_type": "markdown",
   "metadata": {},
   "source": [
    "### 3.1 缺失分析"
   ]
  },
  {
   "cell_type": "code",
   "execution_count": 64,
   "metadata": {},
   "outputs": [
    {
     "name": "stdout",
     "output_type": "stream",
     "text": [
      "Agency 1\n",
      "Create Time 1\n",
      "Area Id 1\n",
      "Beat 581\n",
      "Priority 1\n",
      "Incident Type Id 1\n",
      "Incident Type Description 1\n",
      "Event Number 1\n",
      "Closed Time 1\n"
     ]
    }
   ],
   "source": [
    "for name in crime.columns:\n",
    "    if crime[name].count() != crime.shape[0]:\n",
    "        print(name, crime.shape[0] - crime[name].count())"
   ]
  },
  {
   "cell_type": "markdown",
   "metadata": {},
   "source": [
    "根据分析，上述数据存在缺失值\n",
    "1. Agency: 缺失 1 个数据，如下图所示，数据全部缺失，无法判断\n",
    "2. Create Time: 缺失 1 个数据，缺失案件的发生时间，全部信息缺失\n",
    "3. Area Id: 缺失 1 个数据，缺少案件发生地信息，全部信息缺失\n",
    "4. Beat: 缺少 581 个数据，缺少信息，可能属于无关紧要的数据\n",
    "5. Priority: 缺失 1 个数据，缺少优先级，全部信息缺失\n",
    "6. Incident Type Id: 缺失 1 个数据，全部信息缺失\n",
    "7. Incident Type Description: 缺失 1 个数据，全部信息缺失\n",
    "8. Event Number：缺失 1 个数据，全部信息缺失\n",
    "9. Closed Time：缺失 1 个数据，全部信息缺失"
   ]
  },
  {
   "cell_type": "code",
   "execution_count": 49,
   "metadata": {},
   "outputs": [
    {
     "data": {
      "text/html": [
       "<div>\n",
       "<style scoped>\n",
       "    .dataframe tbody tr th:only-of-type {\n",
       "        vertical-align: middle;\n",
       "    }\n",
       "\n",
       "    .dataframe tbody tr th {\n",
       "        vertical-align: top;\n",
       "    }\n",
       "\n",
       "    .dataframe thead th {\n",
       "        text-align: right;\n",
       "    }\n",
       "</style>\n",
       "<table border=\"1\" class=\"dataframe\">\n",
       "  <thead>\n",
       "    <tr style=\"text-align: right;\">\n",
       "      <th></th>\n",
       "      <th>Agency</th>\n",
       "      <th>Create Time</th>\n",
       "      <th>Location</th>\n",
       "      <th>Area Id</th>\n",
       "      <th>Beat</th>\n",
       "      <th>Priority</th>\n",
       "      <th>Incident Type Id</th>\n",
       "      <th>Incident Type Description</th>\n",
       "      <th>Event Number</th>\n",
       "      <th>Closed Time</th>\n",
       "    </tr>\n",
       "  </thead>\n",
       "  <tbody>\n",
       "    <tr>\n",
       "      <th>238</th>\n",
       "      <td>OP</td>\n",
       "      <td>2016-01-01T11:04:27.000</td>\n",
       "      <td>76TH AVE</td>\n",
       "      <td>P3</td>\n",
       "      <td>NaN</td>\n",
       "      <td>2.0</td>\n",
       "      <td>415</td>\n",
       "      <td>DISTURBING THE PEACE</td>\n",
       "      <td>LOP160101000462</td>\n",
       "      <td>2016-01-01T11:06:56.000</td>\n",
       "    </tr>\n",
       "    <tr>\n",
       "      <th>239</th>\n",
       "      <td>OP</td>\n",
       "      <td>2016-01-01T11:07:35.000</td>\n",
       "      <td>76TH AVE</td>\n",
       "      <td>P3</td>\n",
       "      <td>NaN</td>\n",
       "      <td>2.0</td>\n",
       "      <td>415</td>\n",
       "      <td>DISTURBING THE PEACE</td>\n",
       "      <td>LOP160101000463</td>\n",
       "      <td>2016-01-01T11:08:20.000</td>\n",
       "    </tr>\n",
       "    <tr>\n",
       "      <th>404</th>\n",
       "      <td>OP</td>\n",
       "      <td>2016-01-01T18:29:28.000</td>\n",
       "      <td></td>\n",
       "      <td>P1</td>\n",
       "      <td>NaN</td>\n",
       "      <td>1.0</td>\n",
       "      <td>415C</td>\n",
       "      <td>415 UNKNOWN</td>\n",
       "      <td>LOP160101000791</td>\n",
       "      <td>2016-01-01T18:29:46.000</td>\n",
       "    </tr>\n",
       "    <tr>\n",
       "      <th>544</th>\n",
       "      <td>OP</td>\n",
       "      <td>2016-01-02T01:20:05.000</td>\n",
       "      <td>ST&amp;SAN LEANDRO</td>\n",
       "      <td>P3</td>\n",
       "      <td>NaN</td>\n",
       "      <td>1.0</td>\n",
       "      <td>901A</td>\n",
       "      <td>VEHICLE COLLISION-PE</td>\n",
       "      <td>LOP160102000053</td>\n",
       "      <td>2016-01-02T01:20:05.000</td>\n",
       "    </tr>\n",
       "    <tr>\n",
       "      <th>718</th>\n",
       "      <td>OP</td>\n",
       "      <td>2016-01-02T13:23:23.000</td>\n",
       "      <td>ST&amp;ADELINE ST</td>\n",
       "      <td>P1</td>\n",
       "      <td>NaN</td>\n",
       "      <td>2.0</td>\n",
       "      <td>23152</td>\n",
       "      <td>DUI ALCOHOL/DRUGS</td>\n",
       "      <td>LOP160102000390</td>\n",
       "      <td>2016-01-02T13:23:23.000</td>\n",
       "    </tr>\n",
       "  </tbody>\n",
       "</table>\n",
       "</div>"
      ],
      "text/plain": [
       "    Agency              Create Time             Location Area Id Beat  \\\n",
       "238     OP  2016-01-01T11:04:27.000         76TH AVE          P3  NaN   \n",
       "239     OP  2016-01-01T11:07:35.000         76TH AVE          P3  NaN   \n",
       "404     OP  2016-01-01T18:29:28.000                           P1  NaN   \n",
       "544     OP  2016-01-02T01:20:05.000   ST&SAN LEANDRO          P3  NaN   \n",
       "718     OP  2016-01-02T13:23:23.000    ST&ADELINE ST          P1  NaN   \n",
       "\n",
       "     Priority Incident Type Id Incident Type Description     Event Number  \\\n",
       "238       2.0              415      DISTURBING THE PEACE  LOP160101000462   \n",
       "239       2.0              415      DISTURBING THE PEACE  LOP160101000463   \n",
       "404       1.0             415C               415 UNKNOWN  LOP160101000791   \n",
       "544       1.0             901A      VEHICLE COLLISION-PE  LOP160102000053   \n",
       "718       2.0            23152         DUI ALCOHOL/DRUGS  LOP160102000390   \n",
       "\n",
       "                 Closed Time  \n",
       "238  2016-01-01T11:06:56.000  \n",
       "239  2016-01-01T11:08:20.000  \n",
       "404  2016-01-01T18:29:46.000  \n",
       "544  2016-01-02T01:20:05.000  \n",
       "718  2016-01-02T13:23:23.000  "
      ]
     },
     "execution_count": 49,
     "metadata": {},
     "output_type": "execute_result"
    }
   ],
   "source": [
    "crime[crime['Beat'].isnull().values == True].head()"
   ]
  },
  {
   "cell_type": "markdown",
   "metadata": {},
   "source": [
    "### 3.2 缺失处理\n",
    "* 将缺失部分剔除  \n",
    "    因为可以根据上面的分析得到，有一个案件是所有值都是 NaN 这一个噪声数据的删除是最符合对该数据集的处理的\n",
    "* 用最高频率值来填补缺失值  \n",
    "* 通过属性的相关关系来填补缺失值  \n",
    "* 通过数据对象之间的相似性来填补缺失值  \n",
    "\n",
    "上面的最后三种对缺失处理的方式再本数据集上无法体现出好的效果，主要的原因分析如下，因为再该数据集中，最主要的缺失数据是再 `Beat` 列上，这一列是标称型数据，并不是数据型数，所以无法通过可视化的方式展现处理前后的效果。尝试了通过众数的方式进行检验，但是上面的方式中，处理之后的众数并没有发生改变，话句话说，数据集的基本性质没有变动，缺失数据集对该数据集的影响并不大。"
   ]
  },
  {
   "cell_type": "markdown",
   "metadata": {},
   "source": [
    "#### 3.2.1 缺失剔除"
   ]
  },
  {
   "cell_type": "code",
   "execution_count": 50,
   "metadata": {},
   "outputs": [
    {
     "data": {
      "text/plain": [
       "<matplotlib.axes._subplots.AxesSubplot at 0x7f26eee1aef0>"
      ]
     },
     "execution_count": 50,
     "metadata": {},
     "output_type": "execute_result"
    },
    {
     "data": {
      "image/png": "[encoded data removed]",
      "text/plain": [
       "<Figure size 432x288 with 1 Axes>"
      ]
     },
     "metadata": {
      "needs_background": "light"
     },
     "output_type": "display_data"
    }
   ],
   "source": [
    "crime.boxplot(column=['Priority'])"
   ]
  },
  {
   "cell_type": "code",
   "execution_count": 52,
   "metadata": {},
   "outputs": [
    {
     "data": {
      "text/plain": [
       "<matplotlib.axes._subplots.AxesSubplot at 0x7f26ee623128>"
      ]
     },
     "execution_count": 52,
     "metadata": {},
     "output_type": "execute_result"
    },
    {
     "data": {
      "image/png": "[encoded data removed]",
      "text/plain": [
       "<Figure size 432x288 with 1 Axes>"
      ]
     },
     "metadata": {
      "needs_background": "light"
     },
     "output_type": "display_data"
    }
   ],
   "source": [
    "crime['Priority'].hist()"
   ]
  },
  {
   "cell_type": "code",
   "execution_count": 53,
   "metadata": {},
   "outputs": [],
   "source": [
    "delete_crime = crime.dropna()"
   ]
  },
  {
   "cell_type": "code",
   "execution_count": 54,
   "metadata": {},
   "outputs": [
    {
     "data": {
      "text/plain": [
       "<matplotlib.axes._subplots.AxesSubplot at 0x7f26ee3f5390>"
      ]
     },
     "execution_count": 54,
     "metadata": {},
     "output_type": "execute_result"
    },
    {
     "data": {
      "image/png": "[encoded data removed]",
      "text/plain": [
       "<Figure size 432x288 with 1 Axes>"
      ]
     },
     "metadata": {
      "needs_background": "light"
     },
     "output_type": "display_data"
    }
   ],
   "source": [
    "crime.boxplot(column=['Priority'])"
   ]
  },
  {
   "cell_type": "code",
   "execution_count": 55,
   "metadata": {},
   "outputs": [
    {
     "data": {
      "text/plain": [
       "<matplotlib.axes._subplots.AxesSubplot at 0x7f26ee30b128>"
      ]
     },
     "execution_count": 55,
     "metadata": {},
     "output_type": "execute_result"
    },
    {
     "data": {
      "image/png": "[encoded data removed]",
      "text/plain": [
       "<Figure size 432x288 with 1 Axes>"
      ]
     },
     "metadata": {
      "needs_background": "light"
     },
     "output_type": "display_data"
    }
   ],
   "source": [
    "crime['Priority'].hist()"
   ]
  },
  {
   "cell_type": "markdown",
   "metadata": {},
   "source": [
    "#### 3.2.2 用最高频率值来填补缺失值"
   ]
  },
  {
   "cell_type": "code",
   "execution_count": 57,
   "metadata": {},
   "outputs": [],
   "source": [
    "fill_max = crime.fillna({'Beat': crime['Beat'].mode().item()})"
   ]
  },
  {
   "cell_type": "code",
   "execution_count": 61,
   "metadata": {},
   "outputs": [
    {
     "name": "stdout",
     "output_type": "stream",
     "text": [
      "0    04X\n",
      "dtype: object\n"
     ]
    }
   ],
   "source": [
    "print(fill_max['Beat'].mode())"
   ]
  },
  {
   "cell_type": "code",
   "execution_count": null,
   "metadata": {},
   "outputs": [],
   "source": []
  }
 ],
 "metadata": {
  "kernelspec": {
   "display_name": "Python 3",
   "language": "python",
   "name": "python3"
  },
  "language_info": {
   "codemirror_mode": {
    "name": "ipython",
    "version": 3
   },
   "file_extension": ".py",
   "mimetype": "text/x-python",
   "name": "python",
   "nbconvert_exporter": "python",
   "pygments_lexer": "ipython3",
   "version": "3.6.7"
  },
  "toc-showcode": false
 },
 "nbformat": 4,
 "nbformat_minor": 2
}
