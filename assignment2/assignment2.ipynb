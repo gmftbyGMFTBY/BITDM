{
 "cells": [
  {
   "cell_type": "markdown",
   "metadata": {},
   "source": [
    "## 关联数据集处理\n",
    "处理成为事务项目的数据格式，每一行是事务，每一列是关于事务的项目集合  \n",
    "对应的数据格式是 $(2791, 22387)$ 每一评论 twitter 是一个事务"
   ]
  },
  {
   "cell_type": "code",
   "execution_count": 74,
   "metadata": {},
   "outputs": [],
   "source": [
    "import os\n",
    "import sys\n",
    "import math\n",
    "import pandas as pd\n",
    "import numpy as np\n",
    "import csv\n",
    "import json\n",
    "import pickle\n",
    "import matplotlib.pyplot as plt\n",
    "from akapriori import apriori\n",
    "%matplotlib inline"
   ]
  },
  {
   "cell_type": "code",
   "execution_count": 13,
   "metadata": {},
   "outputs": [],
   "source": [
    "wine1 = pd.read_csv('../data/wine/winemag-data-130k-v2.csv')\n",
    "wine1 = wine1.dropna()"
   ]
  },
  {
   "cell_type": "code",
   "execution_count": 14,
   "metadata": {},
   "outputs": [
    {
     "data": {
      "text/html": [
       "<div>\n",
       "<style scoped>\n",
       "    .dataframe tbody tr th:only-of-type {\n",
       "        vertical-align: middle;\n",
       "    }\n",
       "\n",
       "    .dataframe tbody tr th {\n",
       "        vertical-align: top;\n",
       "    }\n",
       "\n",
       "    .dataframe thead th {\n",
       "        text-align: right;\n",
       "    }\n",
       "</style>\n",
       "<table border=\"1\" class=\"dataframe\">\n",
       "  <thead>\n",
       "    <tr style=\"text-align: right;\">\n",
       "      <th></th>\n",
       "      <th>index</th>\n",
       "      <th>country</th>\n",
       "      <th>description</th>\n",
       "      <th>designation</th>\n",
       "      <th>points</th>\n",
       "      <th>price</th>\n",
       "      <th>province</th>\n",
       "      <th>region_1</th>\n",
       "      <th>region_2</th>\n",
       "      <th>taster_name</th>\n",
       "      <th>taster_twitter_handle</th>\n",
       "      <th>title</th>\n",
       "      <th>variety</th>\n",
       "      <th>winery</th>\n",
       "    </tr>\n",
       "  </thead>\n",
       "  <tbody>\n",
       "    <tr>\n",
       "      <th>4</th>\n",
       "      <td>4</td>\n",
       "      <td>US</td>\n",
       "      <td>Much like the regular bottling from 2012, this...</td>\n",
       "      <td>Vintner's Reserve Wild Child Block</td>\n",
       "      <td>87</td>\n",
       "      <td>65.0</td>\n",
       "      <td>Oregon</td>\n",
       "      <td>Willamette Valley</td>\n",
       "      <td>Willamette Valley</td>\n",
       "      <td>Paul Gregutt</td>\n",
       "      <td>@paulgwine</td>\n",
       "      <td>Sweet Cheeks 2012 Vintner's Reserve Wild Child...</td>\n",
       "      <td>Pinot Noir</td>\n",
       "      <td>Sweet Cheeks</td>\n",
       "    </tr>\n",
       "    <tr>\n",
       "      <th>10</th>\n",
       "      <td>10</td>\n",
       "      <td>US</td>\n",
       "      <td>Soft, supple plum envelopes an oaky structure ...</td>\n",
       "      <td>Mountain Cuvée</td>\n",
       "      <td>87</td>\n",
       "      <td>19.0</td>\n",
       "      <td>California</td>\n",
       "      <td>Napa Valley</td>\n",
       "      <td>Napa</td>\n",
       "      <td>Virginie Boone</td>\n",
       "      <td>@vboone</td>\n",
       "      <td>Kirkland Signature 2011 Mountain Cuvée Caberne...</td>\n",
       "      <td>Cabernet Sauvignon</td>\n",
       "      <td>Kirkland Signature</td>\n",
       "    </tr>\n",
       "    <tr>\n",
       "      <th>23</th>\n",
       "      <td>23</td>\n",
       "      <td>US</td>\n",
       "      <td>This wine from the Geneseo district offers aro...</td>\n",
       "      <td>Signature Selection</td>\n",
       "      <td>87</td>\n",
       "      <td>22.0</td>\n",
       "      <td>California</td>\n",
       "      <td>Paso Robles</td>\n",
       "      <td>Central Coast</td>\n",
       "      <td>Matt Kettmann</td>\n",
       "      <td>@mattkettmann</td>\n",
       "      <td>Bianchi 2011 Signature Selection Merlot (Paso ...</td>\n",
       "      <td>Merlot</td>\n",
       "      <td>Bianchi</td>\n",
       "    </tr>\n",
       "    <tr>\n",
       "      <th>25</th>\n",
       "      <td>25</td>\n",
       "      <td>US</td>\n",
       "      <td>Oak and earth intermingle around robust aromas...</td>\n",
       "      <td>King Ridge Vineyard</td>\n",
       "      <td>87</td>\n",
       "      <td>69.0</td>\n",
       "      <td>California</td>\n",
       "      <td>Sonoma Coast</td>\n",
       "      <td>Sonoma</td>\n",
       "      <td>Virginie Boone</td>\n",
       "      <td>@vboone</td>\n",
       "      <td>Castello di Amorosa 2011 King Ridge Vineyard P...</td>\n",
       "      <td>Pinot Noir</td>\n",
       "      <td>Castello di Amorosa</td>\n",
       "    </tr>\n",
       "    <tr>\n",
       "      <th>35</th>\n",
       "      <td>35</td>\n",
       "      <td>US</td>\n",
       "      <td>As with many of the Erath 2010 vineyard design...</td>\n",
       "      <td>Hyland</td>\n",
       "      <td>86</td>\n",
       "      <td>50.0</td>\n",
       "      <td>Oregon</td>\n",
       "      <td>McMinnville</td>\n",
       "      <td>Willamette Valley</td>\n",
       "      <td>Paul Gregutt</td>\n",
       "      <td>@paulgwine</td>\n",
       "      <td>Erath 2010 Hyland Pinot Noir (McMinnville)</td>\n",
       "      <td>Pinot Noir</td>\n",
       "      <td>Erath</td>\n",
       "    </tr>\n",
       "  </tbody>\n",
       "</table>\n",
       "</div>"
      ],
      "text/plain": [
       "    index country                                        description  \\\n",
       "4       4      US  Much like the regular bottling from 2012, this...   \n",
       "10     10      US  Soft, supple plum envelopes an oaky structure ...   \n",
       "23     23      US  This wine from the Geneseo district offers aro...   \n",
       "25     25      US  Oak and earth intermingle around robust aromas...   \n",
       "35     35      US  As with many of the Erath 2010 vineyard design...   \n",
       "\n",
       "                           designation  points  price    province  \\\n",
       "4   Vintner's Reserve Wild Child Block      87   65.0      Oregon   \n",
       "10                      Mountain Cuvée      87   19.0  California   \n",
       "23                 Signature Selection      87   22.0  California   \n",
       "25                 King Ridge Vineyard      87   69.0  California   \n",
       "35                              Hyland      86   50.0      Oregon   \n",
       "\n",
       "             region_1           region_2     taster_name  \\\n",
       "4   Willamette Valley  Willamette Valley    Paul Gregutt   \n",
       "10        Napa Valley               Napa  Virginie Boone   \n",
       "23        Paso Robles      Central Coast   Matt Kettmann   \n",
       "25       Sonoma Coast             Sonoma  Virginie Boone   \n",
       "35        McMinnville  Willamette Valley    Paul Gregutt   \n",
       "\n",
       "   taster_twitter_handle                                              title  \\\n",
       "4            @paulgwine   Sweet Cheeks 2012 Vintner's Reserve Wild Child...   \n",
       "10               @vboone  Kirkland Signature 2011 Mountain Cuvée Caberne...   \n",
       "23         @mattkettmann  Bianchi 2011 Signature Selection Merlot (Paso ...   \n",
       "25               @vboone  Castello di Amorosa 2011 King Ridge Vineyard P...   \n",
       "35           @paulgwine          Erath 2010 Hyland Pinot Noir (McMinnville)   \n",
       "\n",
       "               variety               winery  \n",
       "4           Pinot Noir         Sweet Cheeks  \n",
       "10  Cabernet Sauvignon   Kirkland Signature  \n",
       "23              Merlot              Bianchi  \n",
       "25          Pinot Noir  Castello di Amorosa  \n",
       "35          Pinot Noir                Erath  "
      ]
     },
     "execution_count": 14,
     "metadata": {},
     "output_type": "execute_result"
    }
   ],
   "source": [
    "wine1.head(5)"
   ]
  },
  {
   "cell_type": "code",
   "execution_count": 43,
   "metadata": {},
   "outputs": [],
   "source": [
    "regions = list(dict(wine1.region_1.value_counts()).keys())\n",
    "tasters = list(dict(wine1.taster_twitter_handle.value_counts()).keys())"
   ]
  },
  {
   "cell_type": "code",
   "execution_count": 44,
   "metadata": {},
   "outputs": [
    {
     "data": {
      "text/plain": [
       "(11, 171)"
      ]
     },
     "execution_count": 44,
     "metadata": {},
     "output_type": "execute_result"
    }
   ],
   "source": [
    "len(tasters), len(regions)"
   ]
  },
  {
   "cell_type": "code",
   "execution_count": 45,
   "metadata": {},
   "outputs": [
    {
     "data": {
      "text/plain": [
       "['@vboone',\n",
       " '@paulgwine\\xa0',\n",
       " '@mattkettmann',\n",
       " '@wawinereport',\n",
       " '@gordone_cellars',\n",
       " '@suskostrzewa',\n",
       " '@JoeCz',\n",
       " '@wineschach',\n",
       " '@laurbuzz',\n",
       " '@winewchristina',\n",
       " '@vossroger']"
      ]
     },
     "execution_count": 45,
     "metadata": {},
     "output_type": "execute_result"
    }
   ],
   "source": [
    "tasters"
   ]
  },
  {
   "cell_type": "code",
   "execution_count": 46,
   "metadata": {},
   "outputs": [],
   "source": [
    "contains = {i: [0] * len(tasters) for i in regions}\n",
    "for row in wine1.iterrows():\n",
    "    region = row[1]['region_1']\n",
    "    taster = row[1]['taster_twitter_handle']\n",
    "    contains[region][tasters.index(taster)] = 1\n",
    "    \n",
    "with open('new_data.csv', 'w') as f:\n",
    "    f_csv = csv.writer(f, delimiter=',')\n",
    "    f_csv.writerow(['region'] + tasters)\n",
    "    for key in contains.keys():\n",
    "        f_csv.writerow([key] + contains[key])"
   ]
  },
  {
   "cell_type": "markdown",
   "metadata": {},
   "source": [
    "## 寻找频繁项集，使用 Apriori 算法\n",
    "设置最小支持度可以进行剪枝"
   ]
  },
  {
   "cell_type": "code",
   "execution_count": 55,
   "metadata": {},
   "outputs": [],
   "source": [
    "new_data = [[tasters[idx] for idx, i in enumerate(value) if i == 1] for key, value in contains.items()]"
   ]
  },
  {
   "cell_type": "code",
   "execution_count": 78,
   "metadata": {},
   "outputs": [
    {
     "name": "stdout",
     "output_type": "stream",
     "text": [
      "频繁项集, sup: 0.01\n",
      "['@suskostrzewa', '@JoeCz'] 0.029239766081871343\n",
      "['@JoeCz', '@suskostrzewa'] 0.029239766081871343\n",
      "['@wineschach', '@JoeCz'] 0.029239766081871343\n",
      "['@JoeCz', '@wineschach'] 0.029239766081871343\n",
      "['@wineschach', '@wawinereport'] 0.03508771929824561\n",
      "['@wawinereport', '@wineschach'] 0.03508771929824561\n",
      "['@paulgwine\\xa0', '@wawinereport'] 0.1286549707602339\n",
      "['@wawinereport', '@paulgwine\\xa0'] 0.1286549707602339\n",
      "['@wineschach', '@paulgwine\\xa0'] 0.04093567251461988\n",
      "['@paulgwine\\xa0', '@wineschach'] 0.04093567251461988\n",
      "['@JoeCz', '@paulgwine\\xa0'] 0.05263157894736842\n",
      "['@paulgwine\\xa0', '@JoeCz'] 0.05263157894736842\n"
     ]
    }
   ],
   "source": [
    "rules = apriori(new_data, support=0.02, confidence=0.1, lift=2)\n",
    "rules_sorted = sorted(rules, key=lambda x: (x[4], x[3], x[2]), reverse=True) # ORDER BY lift DESC, confidence DESC, support DESC\n",
    "\n",
    "print(f\"频繁项集, min support: {0.01}\")\n",
    "for r in rules_sorted:\n",
    "    print(list(r[0]) + list(r[1]), r[2])"
   ]
  },
  {
   "cell_type": "markdown",
   "metadata": {},
   "source": [
    "## 导出关联规则及其支持度，置信度，LIFT， Apriori\n",
    "结果保存再 result.csv 中"
   ]
  },
  {
   "cell_type": "code",
   "execution_count": 73,
   "metadata": {},
   "outputs": [
    {
     "name": "stdout",
     "output_type": "stream",
     "text": [
      "频繁项集, sup: 0.01, confidence: 0.1, lift: 2\n"
     ]
    }
   ],
   "source": [
    "rules = apriori(new_data, support=0.02, confidence=0.1, lift=2)\n",
    "rules_sorted = sorted(rules, key=lambda x: (x[4], x[3], x[2]), reverse=True) # ORDER BY lift DESC, confidence DESC, support DESC\n",
    "\n",
    "print(f\"频繁项集, sup: {0.01}, confidence: {0.1}, lift: {2}\")\n",
    "with open('result.csv', 'w') as f:\n",
    "    f_csv = csv.writer(f, delimiter=',')\n",
    "    f_csv.writerow(['rule', 'sup', 'conf', 'lift'])\n",
    "    for r in rules_sorted:\n",
    "        f_csv.writerow([f'{str(list(r[0])[0])} => {str(list(r[1])[0])}', r[2], r[3], r[4]])"
   ]
  },
  {
   "cell_type": "markdown",
   "metadata": {},
   "source": [
    "## 挖掘结果可视化展示"
   ]
  },
  {
   "cell_type": "markdown",
   "metadata": {},
   "source": [
    "针对规则 @suskostrzewa => @JoeCz 举例, LIFT 是 7.634 该值远远大于 1 说明这两个 item 存在正相关关系，也就是说分布具有一定的相似性\n",
    "![](./1.png)\n",
    "如下是具体分析的可视化的结果，可以发现二者之间存在明显的正相关关系"
   ]
  },
  {
   "cell_type": "markdown",
   "metadata": {},
   "source": [
    "## 挖掘结果分析报告"
   ]
  },
  {
   "cell_type": "markdown",
   "metadata": {},
   "source": [
    "本例针对 wine 数据集进行关联数据挖掘，其中先定义一下事务和 item-set\n",
    "1. 事务: 在本例中事务 transaction 表示的是酒的 region 产地\n",
    "2. item-set: 在本例中项目集表示的是其他的品酒人针对某一个产地的评价分析\n",
    "3. 预期: 希望可以挖掘出不同的 twitter 品酒人对于不同产地的出产的酒的偏好程度，比如，上述的管理数据挖掘得到的结果显示 @suskostrzewa, @JoeCz 这两名品酒人都非常喜欢评价(喜欢品尝) Finger Laker, North Forken, New York, Long Island Cayuga land 这些产地出产的酒\n",
    "---\n",
    "结果分析:\n",
    "本里通过 Apriori 算法按照 support, confidence, LIFT 等指标计算出了频繁项集和他们之间的关系，挖掘出了酒的产地和品酒人之间的一些有趣的关系"
   ]
  },
  {
   "cell_type": "code",
   "execution_count": null,
   "metadata": {},
   "outputs": [],
   "source": []
  }
 ],
 "metadata": {
  "kernelspec": {
   "display_name": "Python 3",
   "language": "python",
   "name": "python3"
  },
  "language_info": {
   "codemirror_mode": {
    "name": "ipython",
    "version": 3
   },
   "file_extension": ".py",
   "mimetype": "text/x-python",
   "name": "python",
   "nbconvert_exporter": "python",
   "pygments_lexer": "ipython3",
   "version": "3.6.7"
  }
 },
 "nbformat": 4,
 "nbformat_minor": 2
}
